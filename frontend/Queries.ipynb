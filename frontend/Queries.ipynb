{
 "cells": [
  {
   "cell_type": "code",
   "execution_count": 3,
   "metadata": {},
   "outputs": [
    {
     "name": "stdout",
     "output_type": "stream",
     "text": [
      "Requirement already satisfied: beautifulsoup4 in c:\\users\\oeh19\\anaconda3\\lib\\site-packages (4.9.3)\n",
      "Requirement already satisfied: soupsieve>1.2; python_version >= \"3.0\" in c:\\users\\oeh19\\anaconda3\\lib\\site-packages (from beautifulsoup4) (2.0.1)\n",
      "Requirement already satisfied: urllib3 in c:\\users\\oeh19\\anaconda3\\lib\\site-packages (1.25.11)\n"
     ]
    }
   ],
   "source": [
    "!pip install beautifulsoup4\n",
    "!pip install urllib3"
   ]
  },
  {
   "cell_type": "code",
   "execution_count": 14,
   "metadata": {},
   "outputs": [],
   "source": [
    "import urllib3\n",
    "import json\n",
    "from bs4 import BeautifulSoup\n",
    "\n",
    "http = urllib3.PoolManager()\n",
    "\n",
    "def search(query, highlight='true'):\n",
    "    url = 'http://localhost:8983/solr/CZ4034/select?q=text:' + query + '&hl=' + highlight + '&wt=json'\n",
    "    response = http.request('GET', url)\n",
    "    soup = BeautifulSoup(response.data)\n",
    "    print(soup)"
   ]
  },
  {
   "cell_type": "code",
   "execution_count": null,
   "metadata": {},
   "outputs": [],
   "source": [
    "\n"
   ]
  },
  {
   "cell_type": "code",
   "execution_count": 15,
   "metadata": {},
   "outputs": [
    {
     "name": "stdout",
     "output_type": "stream",
     "text": [
      "<html><body><p>{\n",
      "  \"responseHeader\":{\n",
      "    \"status\":0,\n",
      "    \"QTime\":5,\n",
      "    \"params\":{\n",
      "      \"q\":\"text:layer\",\n",
      "      \"hl\":\"true\",\n",
      "      \"wt\":\"json\"}},\n",
      "  \"response\":{\"numFound\":2,\"start\":0,\"numFoundExact\":true,\"docs\":[\n",
      "      {\n",
      "        \"tweet_id\":[1500997416979468294],\n",
      "        \"user_id\":[1431262370140200963],\n",
      "        \"username\":\"Turrialba27\",\n",
      "        \"text\":\"You have to include COVAXIN as the main player in that plan.\",\n",
      "        \"like_count\":[0],\n",
      "        \"retweet_count\":[0],\n",
      "        \"location\":[\"No Location\"],\n",
      "        \"creation_date_time\":[\"2022-03-08T00:00:00Z\"],\n",
      "        \"id\":\"3651acf6-550c-40d0-8fd0-08e14227f2f8\",\n",
      "        \"_version_\":1727265458383486978},\n",
      "      {\n",
      "        \"tweet_id\":[1502797517884432390],\n",
      "        \"user_id\":[1392983778709082112],\n",
      "        \"username\":\"Aegean888\",\n",
      "        \"text\":\"And here we go The vaccine blame game from the lead player Of course they knew the traditional method was the way to go and mRNA was just a stopgap but the mighty dollar and juicy govt contracts youâ€™re a schmuck Albert Bourla #COVAXIN #Omicron #COVID19 #cdnpoli\",\n",
      "        \"like_count\":[7],\n",
      "        \"retweet_count\":[1],\n",
      "        \"location\":[\"Inside the Matrix\"],\n",
      "        \"creation_date_time\":[\"2022-03-13T00:00:00Z\"],\n",
      "        \"id\":\"0d3feed6-afcc-4682-b014-0cf56f2ff3f2\",\n",
      "        \"_version_\":1727265457824595975}]\n",
      "  },\n",
      "  \"highlighting\":{\n",
      "    \"3651acf6-550c-40d0-8fd0-08e14227f2f8\":{},\n",
      "    \"0d3feed6-afcc-4682-b014-0cf56f2ff3f2\":{}},\n",
      "  \"spellcheck\":{\n",
      "    \"suggestions\":[\n",
      "      \"layer\",{\n",
      "        \"numFound\":5,\n",
      "        \"startOffset\":5,\n",
      "        \"endOffset\":10,\n",
      "        \"suggestion\":[\"lawyer\",\n",
      "          \"player\",\n",
      "          \"later\",\n",
      "          \"bayer\",\n",
      "          \"payer\"]}],\n",
      "    \"collations\":[\n",
      "      \"collation\",\"text:lawyer\"]}}\n",
      "</p></body></html>\n"
     ]
    }
   ],
   "source": [
    "search('layer')"
   ]
  },
  {
   "cell_type": "code",
   "execution_count": null,
   "metadata": {},
   "outputs": [],
   "source": []
  }
 ],
 "metadata": {
  "kernelspec": {
   "display_name": "Python 3",
   "language": "python",
   "name": "python3"
  },
  "language_info": {
   "codemirror_mode": {
    "name": "ipython",
    "version": 3
   },
   "file_extension": ".py",
   "mimetype": "text/x-python",
   "name": "python",
   "nbconvert_exporter": "python",
   "pygments_lexer": "ipython3",
   "version": "3.8.5"
  }
 },
 "nbformat": 4,
 "nbformat_minor": 4
}
