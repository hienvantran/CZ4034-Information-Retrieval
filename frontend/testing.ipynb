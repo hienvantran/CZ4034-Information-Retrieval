{
 "cells": [
  {
   "cell_type": "code",
   "execution_count": 8,
   "metadata": {},
   "outputs": [],
   "source": [
    "import botometer\n",
    "\n",
    "rapidapi_key = \"xxxxxxxxxxxxxxxxxxxxxxxxxxxxxxx\"\n",
    "twitter_app_auth = {\n",
    "        'consumer_key':        'DZO4o46uebmsiM3QijUmbMj1J',\n",
    "        'consumer_secret':     'jA9g5FaYIeXwrxTNrBM5zXqVJrjfqh1vEJzB0OwGyXfWvP2oN4',\n",
    "        'access_token_key':    '1493791152159739904-wyTZRFyyLxYqhcYu13SAgJG528a5h2',\n",
    "        'access_token_secret': 'Yf29sYInnBFgFzUo7Iy2wdrWPyGhkgjlMiNpHVjUPo8R9'\n",
    "}\n",
    "\n",
    "       \n",
    "bom = botometer.Botometer(wait_on_ratelimit=True,\n",
    "                          rapidapi_key='afb9021f5amsh87bd9dfe9078863p11ca2ajsn1946106f560c',\n",
    "                          **twitter_app_auth)\n",
    "\n",
    "# Check a single account by screen name\n",
    "result = bom.check_account('@AverageJoe143')\n",
    "\n",
    "# Check a single account by id\n",
    "result = bom.check_account(1548959833)\n",
    "\n",
    "# Check a sequence of accounts\n",
    "accounts = ['@clayadavis', '@onurvarol', '@jabawack']\n",
    "\n"
   ]
  },
  {
   "cell_type": "code",
   "execution_count": 3,
   "metadata": {},
   "outputs": [
    {
     "name": "stdout",
     "output_type": "stream",
     "text": [
      "Collecting botometer\n",
      "  Downloading botometer-1.6.1-py3-none-any.whl (4.8 kB)\n",
      "Requirement already satisfied: requests in c:\\users\\oeh19\\anaconda3\\lib\\site-packages (from botometer) (2.27.1)\n",
      "Collecting tweepy<4,>=3.5.0\n",
      "  Downloading tweepy-3.10.0-py2.py3-none-any.whl (30 kB)\n",
      "Requirement already satisfied: certifi>=2017.4.17 in c:\\users\\oeh19\\anaconda3\\lib\\site-packages (from requests->botometer) (2020.6.20)\n",
      "Requirement already satisfied: charset-normalizer~=2.0.0; python_version >= \"3\" in c:\\users\\oeh19\\anaconda3\\lib\\site-packages (from requests->botometer) (2.0.12)\n",
      "Requirement already satisfied: urllib3<1.27,>=1.21.1 in c:\\users\\oeh19\\anaconda3\\lib\\site-packages (from requests->botometer) (1.25.11)\n",
      "Requirement already satisfied: idna<4,>=2.5; python_version >= \"3\" in c:\\users\\oeh19\\anaconda3\\lib\\site-packages (from requests->botometer) (2.10)\n",
      "Requirement already satisfied: six>=1.10.0 in c:\\users\\oeh19\\anaconda3\\lib\\site-packages (from tweepy<4,>=3.5.0->botometer) (1.15.0)\n",
      "Requirement already satisfied: requests-oauthlib>=0.7.0 in c:\\users\\oeh19\\anaconda3\\lib\\site-packages (from tweepy<4,>=3.5.0->botometer) (1.3.1)\n",
      "Requirement already satisfied: oauthlib>=3.0.0 in c:\\users\\oeh19\\anaconda3\\lib\\site-packages (from requests-oauthlib>=0.7.0->tweepy<4,>=3.5.0->botometer) (3.2.0)\n",
      "Installing collected packages: tweepy, botometer\n",
      "  Attempting uninstall: tweepy\n",
      "    Found existing installation: tweepy 4.6.0\n",
      "    Uninstalling tweepy-4.6.0:\n",
      "      Successfully uninstalled tweepy-4.6.0\n",
      "Successfully installed botometer-1.6.1 tweepy-3.10.0\n"
     ]
    }
   ],
   "source": [
    "!pip install botometer"
   ]
  },
  {
   "cell_type": "code",
   "execution_count": 9,
   "metadata": {},
   "outputs": [
    {
     "data": {
      "text/plain": [
       "{'cap': {'english': 0.4197222421546159, 'universal': 0.5742686032713971},\n",
       " 'display_scores': {'english': {'astroturf': 0.1,\n",
       "   'fake_follower': 1.0,\n",
       "   'financial': 0.0,\n",
       "   'other': 0.4,\n",
       "   'overall': 0.4,\n",
       "   'self_declared': 0.2,\n",
       "   'spammer': 0.0},\n",
       "  'universal': {'astroturf': 0.1,\n",
       "   'fake_follower': 1.0,\n",
       "   'financial': 0.0,\n",
       "   'other': 0.4,\n",
       "   'overall': 0.6,\n",
       "   'self_declared': 0.0,\n",
       "   'spammer': 0.0}},\n",
       " 'raw_scores': {'english': {'astroturf': 0.02,\n",
       "   'fake_follower': 0.2,\n",
       "   'financial': 0.0,\n",
       "   'other': 0.07,\n",
       "   'overall': 0.08,\n",
       "   'self_declared': 0.04,\n",
       "   'spammer': 0.01},\n",
       "  'universal': {'astroturf': 0.02,\n",
       "   'fake_follower': 0.21,\n",
       "   'financial': 0.0,\n",
       "   'other': 0.08,\n",
       "   'overall': 0.13,\n",
       "   'self_declared': 0.0,\n",
       "   'spammer': 0.01}},\n",
       " 'user': {'majority_lang': 'en',\n",
       "  'user_data': {'id_str': '1548959833', 'screen_name': 'clayadavis'}}}"
      ]
     },
     "execution_count": 9,
     "metadata": {},
     "output_type": "execute_result"
    }
   ],
   "source": [
    "result"
   ]
  },
  {
   "cell_type": "code",
   "execution_count": 16,
   "metadata": {},
   "outputs": [
    {
     "data": {
      "text/plain": [
       "{'cap': {'english': 0.796828494732411, 'universal': 0.8039704121290502},\n",
       " 'display_scores': {'english': {'astroturf': 0.7,\n",
       "   'fake_follower': 1.6,\n",
       "   'financial': 0.2,\n",
       "   'other': 2.2,\n",
       "   'overall': 2.3,\n",
       "   'self_declared': 0.4,\n",
       "   'spammer': 1.6},\n",
       "  'universal': {'astroturf': 0.9,\n",
       "   'fake_follower': 1.2,\n",
       "   'financial': 0.0,\n",
       "   'other': 2.4,\n",
       "   'overall': 2.1,\n",
       "   'self_declared': 0.9,\n",
       "   'spammer': 1.8}},\n",
       " 'raw_scores': {'english': {'astroturf': 0.14,\n",
       "   'fake_follower': 0.32,\n",
       "   'financial': 0.03,\n",
       "   'other': 0.44,\n",
       "   'overall': 0.46,\n",
       "   'self_declared': 0.08,\n",
       "   'spammer': 0.31},\n",
       "  'universal': {'astroturf': 0.18,\n",
       "   'fake_follower': 0.23,\n",
       "   'financial': 0.0,\n",
       "   'other': 0.48,\n",
       "   'overall': 0.42,\n",
       "   'self_declared': 0.18,\n",
       "   'spammer': 0.35}},\n",
       " 'user': {'majority_lang': 'en',\n",
       "  'user_data': {'id_str': '1431262370140200963',\n",
       "   'screen_name': 'Turrialba27'}}}"
      ]
     },
     "execution_count": 16,
     "metadata": {},
     "output_type": "execute_result"
    }
   ],
   "source": [
    "#Probably spam\n",
    "# Check a single account by screen name\n",
    "result = bom.check_account('@Turrialba27')\n",
    "result"
   ]
  },
  {
   "cell_type": "code",
   "execution_count": 15,
   "metadata": {},
   "outputs": [
    {
     "data": {
      "text/plain": [
       "{'cap': {'english': 0.7892294694438972, 'universal': 0.7947108099739177},\n",
       " 'display_scores': {'english': {'astroturf': 0.5,\n",
       "   'fake_follower': 1.0,\n",
       "   'financial': 0.2,\n",
       "   'other': 0.9,\n",
       "   'overall': 1.8,\n",
       "   'self_declared': 0.1,\n",
       "   'spammer': 0.6},\n",
       "  'universal': {'astroturf': 0.6,\n",
       "   'fake_follower': 1.1,\n",
       "   'financial': 0.0,\n",
       "   'other': 1.0,\n",
       "   'overall': 1.6,\n",
       "   'self_declared': 0.2,\n",
       "   'spammer': 1.0}},\n",
       " 'raw_scores': {'english': {'astroturf': 0.1,\n",
       "   'fake_follower': 0.2,\n",
       "   'financial': 0.03,\n",
       "   'other': 0.18,\n",
       "   'overall': 0.35,\n",
       "   'self_declared': 0.02,\n",
       "   'spammer': 0.12},\n",
       "  'universal': {'astroturf': 0.11,\n",
       "   'fake_follower': 0.22,\n",
       "   'financial': 0.0,\n",
       "   'other': 0.2,\n",
       "   'overall': 0.33,\n",
       "   'self_declared': 0.03,\n",
       "   'spammer': 0.21}},\n",
       " 'user': {'majority_lang': 'en',\n",
       "  'user_data': {'id_str': '1392983778709082112', 'screen_name': 'Aegean888'}}}"
      ]
     },
     "execution_count": 15,
     "metadata": {},
     "output_type": "execute_result"
    }
   ],
   "source": [
    "#probably real\n",
    "result = bom.check_account('@Aegean888')\n",
    "result"
   ]
  },
  {
   "cell_type": "code",
   "execution_count": 22,
   "metadata": {},
   "outputs": [
    {
     "data": {
      "text/plain": [
       "{'cap': {'english': 0.9373635156266058, 'universal': 0.904303821618659},\n",
       " 'display_scores': {'english': {'astroturf': 0.6,\n",
       "   'fake_follower': 2.4,\n",
       "   'financial': 1.0,\n",
       "   'other': 4.8,\n",
       "   'overall': 5.0,\n",
       "   'self_declared': 5.0,\n",
       "   'spammer': 2.3},\n",
       "  'universal': {'astroturf': 0.4,\n",
       "   'fake_follower': 1.8,\n",
       "   'financial': 0.2,\n",
       "   'other': 4.6,\n",
       "   'overall': 4.8,\n",
       "   'self_declared': 4.8,\n",
       "   'spammer': 2.7}},\n",
       " 'raw_scores': {'english': {'astroturf': 0.13,\n",
       "   'fake_follower': 0.4733333333333334,\n",
       "   'financial': 0.19,\n",
       "   'other': 0.95,\n",
       "   'overall': 0.99,\n",
       "   'self_declared': 0.99,\n",
       "   'spammer': 0.47},\n",
       "  'universal': {'astroturf': 0.09,\n",
       "   'fake_follower': 0.36,\n",
       "   'financial': 0.04,\n",
       "   'other': 0.92,\n",
       "   'overall': 0.95,\n",
       "   'self_declared': 0.95,\n",
       "   'spammer': 0.53}},\n",
       " 'user': {'majority_lang': 'en',\n",
       "  'user_data': {'id_str': '1396115471703805953',\n",
       "   'screen_name': 'CovidvaxDEL'}}}"
      ]
     },
     "execution_count": 22,
     "metadata": {},
     "output_type": "execute_result"
    }
   ],
   "source": [
    "\n",
    "# Check a single account by screen name\n",
    "result = bom.check_account('@CovidvaxDEL')\n",
    "result\n",
    "\n"
   ]
  },
  {
   "cell_type": "code",
   "execution_count": 23,
   "metadata": {},
   "outputs": [
    {
     "data": {
      "text/plain": [
       "{'cap': {'english': 0.7969641686241824, 'universal': 0.7828265255249504},\n",
       " 'display_scores': {'english': {'astroturf': 1.0,\n",
       "   'fake_follower': 2.1,\n",
       "   'financial': 0.4,\n",
       "   'other': 2.7,\n",
       "   'overall': 2.3,\n",
       "   'self_declared': 1.6,\n",
       "   'spammer': 1.2},\n",
       "  'universal': {'astroturf': 0.8,\n",
       "   'fake_follower': 1.7,\n",
       "   'financial': 0.3,\n",
       "   'other': 2.2,\n",
       "   'overall': 1.4,\n",
       "   'self_declared': 0.5,\n",
       "   'spammer': 1.0}},\n",
       " 'raw_scores': {'english': {'astroturf': 0.19,\n",
       "   'fake_follower': 0.42,\n",
       "   'financial': 0.09,\n",
       "   'other': 0.53,\n",
       "   'overall': 0.47,\n",
       "   'self_declared': 0.33,\n",
       "   'spammer': 0.25},\n",
       "  'universal': {'astroturf': 0.17,\n",
       "   'fake_follower': 0.34,\n",
       "   'financial': 0.06,\n",
       "   'other': 0.44,\n",
       "   'overall': 0.29,\n",
       "   'self_declared': 0.1,\n",
       "   'spammer': 0.2}},\n",
       " 'user': {'majority_lang': 'en',\n",
       "  'user_data': {'id_str': '1449092858418372608',\n",
       "   'screen_name': 'AverageJoe143'}}}"
      ]
     },
     "execution_count": 23,
     "metadata": {},
     "output_type": "execute_result"
    }
   ],
   "source": [
    "\n",
    "# Check a single account by screen name\n",
    "result = bom.check_account('@AverageJoe143')\n",
    "result"
   ]
  },
  {
   "cell_type": "code",
   "execution_count": 24,
   "metadata": {},
   "outputs": [
    {
     "data": {
      "text/plain": [
       "{'cap': {'english': 0.7892294694438972, 'universal': 0.7897432630001835},\n",
       " 'display_scores': {'english': {'astroturf': 1.4,\n",
       "   'fake_follower': 1.9,\n",
       "   'financial': 0.4,\n",
       "   'other': 2.4,\n",
       "   'overall': 1.8,\n",
       "   'self_declared': 0.4,\n",
       "   'spammer': 1.0},\n",
       "  'universal': {'astroturf': 1.0,\n",
       "   'fake_follower': 1.4,\n",
       "   'financial': 0.4,\n",
       "   'other': 1.2,\n",
       "   'overall': 1.6,\n",
       "   'self_declared': 0.4,\n",
       "   'spammer': 1.0}},\n",
       " 'raw_scores': {'english': {'astroturf': 0.28,\n",
       "   'fake_follower': 0.38,\n",
       "   'financial': 0.08,\n",
       "   'other': 0.49,\n",
       "   'overall': 0.35,\n",
       "   'self_declared': 0.08,\n",
       "   'spammer': 0.19},\n",
       "  'universal': {'astroturf': 0.19,\n",
       "   'fake_follower': 0.29,\n",
       "   'financial': 0.09,\n",
       "   'other': 0.25,\n",
       "   'overall': 0.31,\n",
       "   'self_declared': 0.08,\n",
       "   'spammer': 0.21}},\n",
       " 'user': {'majority_lang': 'en',\n",
       "  'user_data': {'id_str': '1434862733166481410',\n",
       "   'screen_name': 'RoySougata2'}}}"
      ]
     },
     "execution_count": 24,
     "metadata": {},
     "output_type": "execute_result"
    }
   ],
   "source": [
    "\n",
    "# Check a single account by screen name\n",
    "result = bom.check_account('@RoySougata2')\n",
    "result"
   ]
  },
  {
   "cell_type": "code",
   "execution_count": 25,
   "metadata": {},
   "outputs": [
    {
     "data": {
      "text/plain": [
       "{'cap': {'english': 0.6763619064808265, 'universal': 0.7897432630001835},\n",
       " 'display_scores': {'english': {'astroturf': 0.7,\n",
       "   'fake_follower': 0.4,\n",
       "   'financial': 0.4,\n",
       "   'other': 1.7,\n",
       "   'overall': 1.0,\n",
       "   'self_declared': 0.0,\n",
       "   'spammer': 0.0},\n",
       "  'universal': {'astroturf': 0.8,\n",
       "   'fake_follower': 0.3,\n",
       "   'financial': 0.2,\n",
       "   'other': 2.0,\n",
       "   'overall': 1.6,\n",
       "   'self_declared': 0.0,\n",
       "   'spammer': 0.0}},\n",
       " 'raw_scores': {'english': {'astroturf': 0.14,\n",
       "   'fake_follower': 0.08,\n",
       "   'financial': 0.09,\n",
       "   'other': 0.34,\n",
       "   'overall': 0.19,\n",
       "   'self_declared': 0.0,\n",
       "   'spammer': 0.01},\n",
       "  'universal': {'astroturf': 0.16,\n",
       "   'fake_follower': 0.06,\n",
       "   'financial': 0.03,\n",
       "   'other': 0.4,\n",
       "   'overall': 0.31,\n",
       "   'self_declared': 0.0,\n",
       "   'spammer': 0.0}},\n",
       " 'user': {'majority_lang': 'en',\n",
       "  'user_data': {'id_str': '470447811', 'screen_name': 'Wetsu25'}}}"
      ]
     },
     "execution_count": 25,
     "metadata": {},
     "output_type": "execute_result"
    }
   ],
   "source": [
    "# probably real\n",
    "# Check a single account by screen name\n",
    "result = bom.check_account('@Wetsu25')\n",
    "result"
   ]
  },
  {
   "cell_type": "code",
   "execution_count": 26,
   "metadata": {},
   "outputs": [
    {
     "data": {
      "text/plain": [
       "{'cap': {'english': 0.9158377984126878, 'universal': 0.9197876419218655},\n",
       " 'display_scores': {'english': {'astroturf': 0.3,\n",
       "   'fake_follower': 2.6,\n",
       "   'financial': 1.0,\n",
       "   'other': 4.8,\n",
       "   'overall': 4.8,\n",
       "   'self_declared': 4.2,\n",
       "   'spammer': 2.6},\n",
       "  'universal': {'astroturf': 0.2,\n",
       "   'fake_follower': 3.2,\n",
       "   'financial': 0.6,\n",
       "   'other': 4.8,\n",
       "   'overall': 4.8,\n",
       "   'self_declared': 4.8,\n",
       "   'spammer': 3.0}},\n",
       " 'raw_scores': {'english': {'astroturf': 0.06,\n",
       "   'fake_follower': 0.52,\n",
       "   'financial': 0.21,\n",
       "   'other': 0.96,\n",
       "   'overall': 0.96,\n",
       "   'self_declared': 0.85,\n",
       "   'spammer': 0.51},\n",
       "  'universal': {'astroturf': 0.03,\n",
       "   'fake_follower': 0.64,\n",
       "   'financial': 0.11,\n",
       "   'other': 0.97,\n",
       "   'overall': 0.97,\n",
       "   'self_declared': 0.95,\n",
       "   'spammer': 0.61}},\n",
       " 'user': {'majority_lang': 'en',\n",
       "  'user_data': {'id_str': '1393483517342797827',\n",
       "   'screen_name': 'UMESHCH23541179'}}}"
      ]
     },
     "execution_count": 26,
     "metadata": {},
     "output_type": "execute_result"
    }
   ],
   "source": [
    "# probably spam\n",
    "# Check a single account by screen name\n",
    "result = bom.check_account('@UMESHCH23541179')\n",
    "result"
   ]
  },
  {
   "cell_type": "code",
   "execution_count": 28,
   "metadata": {},
   "outputs": [
    {
     "data": {
      "text/plain": [
       "{'cap': {'english': 0.7946723107742963, 'universal': 0.7982287282125168},\n",
       " 'display_scores': {'english': {'astroturf': 1.3,\n",
       "   'fake_follower': 1.0,\n",
       "   'financial': 0.0,\n",
       "   'other': 1.8,\n",
       "   'overall': 2.0,\n",
       "   'self_declared': 0.1,\n",
       "   'spammer': 0.6},\n",
       "  'universal': {'astroturf': 0.9,\n",
       "   'fake_follower': 0.8,\n",
       "   'financial': 0.0,\n",
       "   'other': 1.5,\n",
       "   'overall': 1.8,\n",
       "   'self_declared': 0.2,\n",
       "   'spammer': 1.0}},\n",
       " 'raw_scores': {'english': {'astroturf': 0.26,\n",
       "   'fake_follower': 0.19,\n",
       "   'financial': 0.01,\n",
       "   'other': 0.35,\n",
       "   'overall': 0.4,\n",
       "   'self_declared': 0.02,\n",
       "   'spammer': 0.12},\n",
       "  'universal': {'astroturf': 0.18,\n",
       "   'fake_follower': 0.15,\n",
       "   'financial': 0.0,\n",
       "   'other': 0.3,\n",
       "   'overall': 0.35,\n",
       "   'self_declared': 0.03,\n",
       "   'spammer': 0.19}},\n",
       " 'user': {'majority_lang': 'en',\n",
       "  'user_data': {'id_str': '1395910534877257731',\n",
       "   'screen_name': 'HieuTrantheMAN'}}}"
      ]
     },
     "execution_count": 28,
     "metadata": {},
     "output_type": "execute_result"
    }
   ],
   "source": [
    "# probably real\n",
    "# Check a single account by screen name\n",
    "result = bom.check_account('@HieuTrantheMAN')\n",
    "result"
   ]
  },
  {
   "cell_type": "code",
   "execution_count": 29,
   "metadata": {},
   "outputs": [
    {
     "data": {
      "text/plain": [
       "{'cap': {'english': 0.7907586934369296, 'universal': 0.801617083559931},\n",
       " 'display_scores': {'english': {'astroturf': 0.6,\n",
       "   'fake_follower': 1.1,\n",
       "   'financial': 0.0,\n",
       "   'other': 1.2,\n",
       "   'overall': 1.8,\n",
       "   'self_declared': 0.1,\n",
       "   'spammer': 0.6},\n",
       "  'universal': {'astroturf': 0.6,\n",
       "   'fake_follower': 0.7,\n",
       "   'financial': 0.0,\n",
       "   'other': 1.2,\n",
       "   'overall': 1.9,\n",
       "   'self_declared': 0.1,\n",
       "   'spammer': 1.0}},\n",
       " 'raw_scores': {'english': {'astroturf': 0.13,\n",
       "   'fake_follower': 0.22,\n",
       "   'financial': 0.0,\n",
       "   'other': 0.25,\n",
       "   'overall': 0.36,\n",
       "   'self_declared': 0.02,\n",
       "   'spammer': 0.12},\n",
       "  'universal': {'astroturf': 0.13,\n",
       "   'fake_follower': 0.14,\n",
       "   'financial': 0.01,\n",
       "   'other': 0.25,\n",
       "   'overall': 0.38,\n",
       "   'self_declared': 0.02,\n",
       "   'spammer': 0.2}},\n",
       " 'user': {'majority_lang': 'en',\n",
       "  'user_data': {'id_str': '1392274772554260483',\n",
       "   'screen_name': 'Chris34883890'}}}"
      ]
     },
     "execution_count": 29,
     "metadata": {},
     "output_type": "execute_result"
    }
   ],
   "source": [
    "# probably real\n",
    "# Check a single account by screen name\n",
    "result = bom.check_account('@Chris34883890')\n",
    "result"
   ]
  },
  {
   "cell_type": "code",
   "execution_count": null,
   "metadata": {},
   "outputs": [],
   "source": []
  }
 ],
 "metadata": {
  "kernelspec": {
   "display_name": "Python 3",
   "language": "python",
   "name": "python3"
  },
  "language_info": {
   "codemirror_mode": {
    "name": "ipython",
    "version": 3
   },
   "file_extension": ".py",
   "mimetype": "text/x-python",
   "name": "python",
   "nbconvert_exporter": "python",
   "pygments_lexer": "ipython3",
   "version": "3.8.5"
  }
 },
 "nbformat": 4,
 "nbformat_minor": 4
}
