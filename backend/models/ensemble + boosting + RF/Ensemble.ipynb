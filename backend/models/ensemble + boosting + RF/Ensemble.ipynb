{
 "cells": [
  {
   "cell_type": "code",
   "metadata": {
    "cell_id": "e26f4ec8-c9d8-49e6-9824-ab3adf50df55",
    "deepnote_to_be_reexecuted": false,
    "source_hash": "8ad23451",
    "execution_start": 1648826405569,
    "execution_millis": 4385,
    "deepnote_cell_type": "code",
    "deepnote_cell_height": 315
   },
   "source": "import pandas as pd\nimport numpy as np\n\nimport nltk\n\nfrom sklearn.metrics import accuracy_score, precision_score, recall_score\nfrom sklearn.model_selection import train_test_split, cross_val_score, GridSearchCV\nfrom sklearn.ensemble import RandomForestClassifier, VotingClassifier\nfrom sklearn.feature_extraction.text import TfidfVectorizer\nfrom sklearn.svm import SVC\nfrom sklearn.linear_model import LogisticRegression\nfrom sklearn.naive_bayes import GaussianNB\n\nimport os",
   "execution_count": 1,
   "outputs": []
  },
  {
   "cell_type": "code",
   "metadata": {
    "cell_id": "00001-b89cca51-f670-4d11-8098-25bd66056023",
    "deepnote_to_be_reexecuted": false,
    "source_hash": "c17366df",
    "execution_start": 1648826409968,
    "execution_millis": 297,
    "deepnote_cell_type": "code",
    "deepnote_cell_height": 616,
    "deepnote_output_heights": [
     382.1875
    ]
   },
   "source": "df = pd.read_csv('data.csv')\ndf",
   "execution_count": 2,
   "outputs": [
    {
     "output_type": "execute_result",
     "execution_count": 2,
     "data": {
      "application/vnd.deepnote.dataframe.v3+json": {
       "column_count": 4,
       "row_count": 8569,
       "columns": [
        {
         "name": "Unnamed: 0",
         "dtype": "int64",
         "stats": {
          "unique_count": 8569,
          "nan_count": 0,
          "min": "0",
          "max": "8568",
          "histogram": [
           {
            "bin_start": 0,
            "bin_end": 856.8,
            "count": 857
           },
           {
            "bin_start": 856.8,
            "bin_end": 1713.6,
            "count": 857
           },
           {
            "bin_start": 1713.6,
            "bin_end": 2570.3999999999996,
            "count": 857
           },
           {
            "bin_start": 2570.3999999999996,
            "bin_end": 3427.2,
            "count": 857
           },
           {
            "bin_start": 3427.2,
            "bin_end": 4284,
            "count": 856
           },
           {
            "bin_start": 4284,
            "bin_end": 5140.799999999999,
            "count": 857
           },
           {
            "bin_start": 5140.799999999999,
            "bin_end": 5997.599999999999,
            "count": 857
           },
           {
            "bin_start": 5997.599999999999,
            "bin_end": 6854.4,
            "count": 857
           },
           {
            "bin_start": 6854.4,
            "bin_end": 7711.2,
            "count": 857
           },
           {
            "bin_start": 7711.2,
            "bin_end": 8568,
            "count": 857
           }
          ]
         }
        },
        {
         "name": "tweet_id",
         "dtype": "float64",
         "stats": {
          "unique_count": 7,
          "nan_count": 0,
          "min": "1.34e+18",
          "max": "1.5e+18",
          "histogram": [
           {
            "bin_start": 1340000000000000000,
            "bin_end": 1356000000000000000,
            "count": 422
           },
           {
            "bin_start": 1356000000000000000,
            "bin_end": 1372000000000000000,
            "count": 2831
           },
           {
            "bin_start": 1372000000000000000,
            "bin_end": 1388000000000000000,
            "count": 2681
           },
           {
            "bin_start": 1388000000000000000,
            "bin_end": 1404000000000000000,
            "count": 1606
           },
           {
            "bin_start": 1404000000000000000,
            "bin_end": 1420000000000000000,
            "count": 0
           },
           {
            "bin_start": 1420000000000000000,
            "bin_end": 1436000000000000000,
            "count": 0
           },
           {
            "bin_start": 1436000000000000000,
            "bin_end": 1452000000000000000,
            "count": 0
           },
           {
            "bin_start": 1452000000000000000,
            "bin_end": 1468000000000000000,
            "count": 0
           },
           {
            "bin_start": 1468000000000000000,
            "bin_end": 1484000000000000000,
            "count": 0
           },
           {
            "bin_start": 1484000000000000000,
            "bin_end": 1500000000000000000,
            "count": 1029
           }
          ]
         }
        },
        {
         "name": "label",
         "dtype": "int64",
         "stats": {
          "unique_count": 3,
          "nan_count": 0,
          "min": "0",
          "max": "2",
          "histogram": [
           {
            "bin_start": 0,
            "bin_end": 0.2,
            "count": 907
           },
           {
            "bin_start": 0.2,
            "bin_end": 0.4,
            "count": 0
           },
           {
            "bin_start": 0.4,
            "bin_end": 0.6000000000000001,
            "count": 0
           },
           {
            "bin_start": 0.6000000000000001,
            "bin_end": 0.8,
            "count": 0
           },
           {
            "bin_start": 0.8,
            "bin_end": 1,
            "count": 0
           },
           {
            "bin_start": 1,
            "bin_end": 1.2000000000000002,
            "count": 5021
           },
           {
            "bin_start": 1.2000000000000002,
            "bin_end": 1.4000000000000001,
            "count": 0
           },
           {
            "bin_start": 1.4000000000000001,
            "bin_end": 1.6,
            "count": 0
           },
           {
            "bin_start": 1.6,
            "bin_end": 1.8,
            "count": 0
           },
           {
            "bin_start": 1.8,
            "bin_end": 2,
            "count": 2641
           }
          ]
         }
        },
        {
         "name": "text_clean",
         "dtype": "object",
         "stats": {
          "unique_count": 8502,
          "nan_count": 0,
          "categories": [
           {
            "name": "  rt jburnmurdoch  new  indian variant b escaping vaccines  annasophiegross  amykazmin  jyots investigatestoâ ¦",
            "count": 4
           },
           {
            "name": "  selling   nitrilegloves     facemasks   vaccines  sputnikv   syringes  contact sales  httpstcogwmroplaro tweet   covid  trading  business",
            "count": 4
           },
           {
            "name": "8500 others",
            "count": 8561
           }
          ]
         }
        },
        {
         "name": "_deepnote_index_column",
         "dtype": "int64"
        }
       ],
       "rows": [
        {
         "Unnamed: 0": 0,
         "tweet_id": 1390000000000000000,
         "label": 2,
         "text_clean": "  offered vaccine wait  safe  best vaccine gâ ¦ httpstcoobkvtwn",
         "_deepnote_index_column": 0
        },
        {
         "Unnamed: 0": 1,
         "tweet_id": 1390000000000000000,
         "label": 2,
         "text_clean": "  rt aminamnzr   high upper  middle income countries represent   worldâs population  received   worldâs vacciâ ¦",
         "_deepnote_index_column": 1
        },
        {
         "Unnamed: 0": 2,
         "tweet_id": 1390000000000000000,
         "label": 1,
         "text_clean": "    starting   lyft begin providing ride codes cover   trip vaccinatioâ ¦ httpstcozftzxjnxwu",
         "_deepnote_index_column": 2
        },
        {
         "Unnamed: 0": 3,
         "tweet_id": 1390000000000000000,
         "label": 0,
         "text_clean": "  rt gdc  bsimonward heck  extremely vulnerable  drug trial stages  absolute risk reductâ ¦",
         "_deepnote_index_column": 3
        },
        {
         "Unnamed: 0": 4,
         "tweet_id": 1390000000000000000,
         "label": 2,
         "text_clean": "  rt healthallamer  today found husband staff member school got covid march  intubated  ventilator  days  alâ ¦",
         "_deepnote_index_column": 4
        },
        {
         "Unnamed: 0": 5,
         "tweet_id": 1390000000000000000,
         "label": 0,
         "text_clean": "  rt fizzforbrexit  aiclayton matthancock think find numbers high india vaccinations  indiâ ¦",
         "_deepnote_index_column": 5
        },
        {
         "Unnamed: 0": 6,
         "tweet_id": 1390000000000000000,
         "label": 2,
         "text_clean": "  rt monicagandhi   cdcâs slow  cautious messaging covid step moment  public health experts    think true  wâ ¦",
         "_deepnote_index_column": 6
        },
        {
         "Unnamed: 0": 7,
         "tweet_id": 1390000000000000000,
         "label": 0,
         "text_clean": "  rt kamaneljavier  shannonjoyradio lcarball osha common sense  employer mandate requirements employees vâ ¦",
         "_deepnote_index_column": 7
        },
        {
         "Unnamed: 0": 8,
         "tweet_id": 1390000000000000000,
         "label": 0,
         "text_clean": "  rt sanchak  israel setting grounds variants  sa  responsible breakthrough infections mrna vaccinesâ ¦",
         "_deepnote_index_column": 8
        },
        {
         "Unnamed: 0": 9,
         "tweet_id": 1390000000000000000,
         "label": 2,
         "text_clean": "   think    know good   httpstcocwwsrzsxgh",
         "_deepnote_index_column": 9
        }
       ]
      },
      "text/plain": "      Unnamed: 0      tweet_id  label  \\\n0              0  1.390000e+18      2   \n1              1  1.390000e+18      2   \n2              2  1.390000e+18      1   \n3              3  1.390000e+18      0   \n4              4  1.390000e+18      2   \n...          ...           ...    ...   \n8564        8564  1.500000e+18      2   \n8565        8565  1.500000e+18      2   \n8566        8566  1.500000e+18      2   \n8567        8567  1.500000e+18      2   \n8568        8568  1.500000e+18      2   \n\n                                             text_clean  \n0       offered vaccine wait  safe  best vaccine gâ...  \n1       rt aminamnzr   high upper  middle income cou...  \n2         starting   lyft begin providing ride codes...  \n3       rt gdc  bsimonward heck  extremely vulnerabl...  \n4       rt healthallamer  today found husband staff ...  \n...                                                 ...  \n8564  Or 🇭 have Sinovac VAED Or both I have faith se...  \n8565  More people with 3 doses of the vaccine curren...  \n8566  pfizer Pharma owns the journals They massage s...  \n8567  pfizer He's in bed with BIG pharma getting mil...  \n8568  And if you believe the false hope you get sino...  \n\n[8569 rows x 4 columns]",
      "text/html": "<div>\n<style scoped>\n    .dataframe tbody tr th:only-of-type {\n        vertical-align: middle;\n    }\n\n    .dataframe tbody tr th {\n        vertical-align: top;\n    }\n\n    .dataframe thead th {\n        text-align: right;\n    }\n</style>\n<table border=\"1\" class=\"dataframe\">\n  <thead>\n    <tr style=\"text-align: right;\">\n      <th></th>\n      <th>Unnamed: 0</th>\n      <th>tweet_id</th>\n      <th>label</th>\n      <th>text_clean</th>\n    </tr>\n  </thead>\n  <tbody>\n    <tr>\n      <th>0</th>\n      <td>0</td>\n      <td>1.390000e+18</td>\n      <td>2</td>\n      <td>offered vaccine wait  safe  best vaccine gâ...</td>\n    </tr>\n    <tr>\n      <th>1</th>\n      <td>1</td>\n      <td>1.390000e+18</td>\n      <td>2</td>\n      <td>rt aminamnzr   high upper  middle income cou...</td>\n    </tr>\n    <tr>\n      <th>2</th>\n      <td>2</td>\n      <td>1.390000e+18</td>\n      <td>1</td>\n      <td>starting   lyft begin providing ride codes...</td>\n    </tr>\n    <tr>\n      <th>3</th>\n      <td>3</td>\n      <td>1.390000e+18</td>\n      <td>0</td>\n      <td>rt gdc  bsimonward heck  extremely vulnerabl...</td>\n    </tr>\n    <tr>\n      <th>4</th>\n      <td>4</td>\n      <td>1.390000e+18</td>\n      <td>2</td>\n      <td>rt healthallamer  today found husband staff ...</td>\n    </tr>\n    <tr>\n      <th>...</th>\n      <td>...</td>\n      <td>...</td>\n      <td>...</td>\n      <td>...</td>\n    </tr>\n    <tr>\n      <th>8564</th>\n      <td>8564</td>\n      <td>1.500000e+18</td>\n      <td>2</td>\n      <td>Or 🇭 have Sinovac VAED Or both I have faith se...</td>\n    </tr>\n    <tr>\n      <th>8565</th>\n      <td>8565</td>\n      <td>1.500000e+18</td>\n      <td>2</td>\n      <td>More people with 3 doses of the vaccine curren...</td>\n    </tr>\n    <tr>\n      <th>8566</th>\n      <td>8566</td>\n      <td>1.500000e+18</td>\n      <td>2</td>\n      <td>pfizer Pharma owns the journals They massage s...</td>\n    </tr>\n    <tr>\n      <th>8567</th>\n      <td>8567</td>\n      <td>1.500000e+18</td>\n      <td>2</td>\n      <td>pfizer He's in bed with BIG pharma getting mil...</td>\n    </tr>\n    <tr>\n      <th>8568</th>\n      <td>8568</td>\n      <td>1.500000e+18</td>\n      <td>2</td>\n      <td>And if you believe the false hope you get sino...</td>\n    </tr>\n  </tbody>\n</table>\n<p>8569 rows × 4 columns</p>\n</div>"
     },
     "metadata": {}
    }
   ]
  },
  {
   "cell_type": "code",
   "metadata": {
    "cell_id": "00002-5c9f883c-143d-417d-8d94-693f8b75c3fe",
    "deepnote_to_be_reexecuted": false,
    "source_hash": "49cdad39",
    "execution_start": 1648826410274,
    "execution_millis": 15,
    "deepnote_cell_type": "code",
    "deepnote_cell_height": 135
   },
   "source": "X_data = df[['text_clean']].to_numpy().reshape(-1)\nY_data = df[['label']].to_numpy().reshape(-1)\n\nX_train, X_test, Y_train, Y_test = train_test_split(X_data, Y_data, test_size = 0.2, random_state = 42)",
   "execution_count": 3,
   "outputs": []
  },
  {
   "cell_type": "code",
   "metadata": {
    "cell_id": "00003-9152683c-327c-46c9-be7a-2796a21962e5",
    "deepnote_to_be_reexecuted": false,
    "source_hash": "984a2f20",
    "execution_start": 1648826410299,
    "execution_millis": 13,
    "deepnote_cell_type": "code",
    "deepnote_cell_height": 171
   },
   "source": "def vectorize(data, tfidf_vect_fit):\n    X_tfidf = tfidf_vect_fit.transform(data)\n    words = tfidf_vect_fit.get_feature_names_out()\n    X_tfidf_df = pd.DataFrame(X_tfidf.toarray())\n    X_tfidf_df.columns = words\n    return(X_tfidf_df)",
   "execution_count": 4,
   "outputs": []
  },
  {
   "cell_type": "code",
   "source": "nltk.download('punkt')",
   "metadata": {
    "cell_id": "674dbe3957f243c6b97412b7886ff885",
    "tags": [],
    "deepnote_to_be_reexecuted": false,
    "source_hash": "997399cc",
    "execution_start": 1648826410328,
    "execution_millis": 654,
    "deepnote_cell_type": "code",
    "deepnote_cell_height": 184.1875,
    "deepnote_output_heights": [
     null,
     21.1875
    ]
   },
   "outputs": [
    {
     "name": "stderr",
     "text": "[nltk_data] Downloading package punkt to /root/nltk_data...\n[nltk_data]   Unzipping tokenizers/punkt.zip.\n",
     "output_type": "stream"
    },
    {
     "output_type": "execute_result",
     "execution_count": 5,
     "data": {
      "text/plain": "True"
     },
     "metadata": {}
    }
   ],
   "execution_count": 5
  },
  {
   "cell_type": "code",
   "metadata": {
    "cell_id": "00004-f144a929-a48b-4bb9-80be-6935374a54ed",
    "deepnote_to_be_reexecuted": false,
    "source_hash": "6100f22e",
    "execution_start": 1648826410996,
    "execution_millis": 8701,
    "deepnote_cell_type": "code",
    "deepnote_cell_height": 117
   },
   "source": "tfidf_vect = TfidfVectorizer(analyzer = lambda x: nltk.word_tokenize(x))\ntfidf_vect_fit = tfidf_vect.fit(X_train)\nX_train = vectorize(X_train, tfidf_vect_fit)",
   "execution_count": 6,
   "outputs": []
  },
  {
   "cell_type": "code",
   "metadata": {
    "cell_id": "00005-3122333c-e4d6-41de-a56f-ae27db485f40",
    "deepnote_to_be_reexecuted": false,
    "source_hash": "f575877",
    "execution_start": 1648826419719,
    "execution_millis": 42,
    "deepnote_cell_type": "code",
    "deepnote_cell_height": 153
   },
   "source": "rfClf = RandomForestClassifier(n_estimators = 200) # 200 trees. \nsvmClf = SVC(probability = True, random_state = 0) # probability calculation\nlogClf = LogisticRegression(random_state = 0)\n\nclf2 = VotingClassifier(estimators = [('rf', rfClf), ('svm', svmClf), ('log', logClf)], voting = 'soft') ",
   "execution_count": 7,
   "outputs": []
  },
  {
   "cell_type": "code",
   "metadata": {
    "cell_id": "00006-209d2450-6a06-4874-8f63-277152589862",
    "deepnote_to_be_reexecuted": false,
    "source_hash": "ba56d92d",
    "execution_start": 1648826450546,
    "execution_millis": 6736369,
    "deepnote_cell_type": "code",
    "deepnote_cell_height": 193.78125,
    "deepnote_output_heights": [
     78.796875
    ]
   },
   "source": "# train the ensemble classifier\nclf2.fit(X_train, Y_train)",
   "execution_count": 9,
   "outputs": [
    {
     "output_type": "execute_result",
     "execution_count": 9,
     "data": {
      "text/plain": "VotingClassifier(estimators=[('rf', RandomForestClassifier(n_estimators=200)),\n                             ('svm', SVC(probability=True, random_state=0)),\n                             ('log', LogisticRegression(random_state=0))],\n                 voting='soft')"
     },
     "metadata": {}
    }
   ]
  },
  {
   "cell_type": "code",
   "metadata": {
    "cell_id": "00008-f01422dc-e0b3-4566-b2a3-9a2509738706",
    "deepnote_to_be_reexecuted": false,
    "source_hash": "28c52af8",
    "execution_start": 1648833277201,
    "execution_millis": 1820790,
    "deepnote_cell_type": "code",
    "deepnote_cell_height": 118.1875,
    "deepnote_output_heights": [
     21.1875
    ]
   },
   "source": "clf2.score(X_train, Y_train)",
   "execution_count": 10,
   "outputs": [
    {
     "output_type": "execute_result",
     "execution_count": 10,
     "data": {
      "text/plain": "0.9861415025528811"
     },
     "metadata": {}
    }
   ]
  },
  {
   "cell_type": "code",
   "metadata": {
    "cell_id": "00009-cae1fe78-5fce-4762-931c-b2c96ef582ea",
    "deepnote_to_be_reexecuted": false,
    "source_hash": "97a41403",
    "execution_start": 1648835976659,
    "execution_millis": 387,
    "deepnote_cell_type": "code",
    "deepnote_cell_height": 81
   },
   "source": "X_test = vectorize(X_test, tfidf_vect_fit)",
   "execution_count": 11,
   "outputs": []
  },
  {
   "cell_type": "code",
   "metadata": {
    "cell_id": "00010-2fcccc08-f553-4726-9283-808c6037caf3",
    "deepnote_to_be_reexecuted": false,
    "source_hash": "cea200e2",
    "execution_start": 1648835980502,
    "execution_millis": 541645,
    "deepnote_cell_type": "code",
    "deepnote_cell_height": 166
   },
   "source": "Y_pred = clf2.predict(X_test)\n\naccuracy = accuracy_score(Y_test, Y_pred)\nprint(f\"Accuracy: {accuracy}\")",
   "execution_count": 12,
   "outputs": [
    {
     "name": "stdout",
     "text": "Accuracy: 0.6866977829638273\n",
     "output_type": "stream"
    }
   ]
  },
  {
   "cell_type": "code",
   "metadata": {
    "cell_id": "00011-b491b767-8a68-4be5-9d59-b21f37957467",
    "deepnote_to_be_reexecuted": false,
    "source_hash": "fa2a2f0d",
    "execution_start": 1648836752553,
    "execution_millis": 7,
    "deepnote_cell_type": "code",
    "deepnote_cell_height": 130
   },
   "source": "precision = precision_score(Y_test, Y_pred, average='micro')\nprint(f\"Precision: {precision}\")",
   "execution_count": 14,
   "outputs": [
    {
     "name": "stdout",
     "text": "Precision: 0.6866977829638273\n",
     "output_type": "stream"
    }
   ]
  },
  {
   "cell_type": "code",
   "metadata": {
    "cell_id": "00012-f4bfcca9-6e32-4b0b-b548-6cfd33280d96",
    "deepnote_to_be_reexecuted": false,
    "source_hash": "8ab0a2dc",
    "execution_start": 1648836755501,
    "execution_millis": 7,
    "deepnote_cell_type": "code",
    "deepnote_cell_height": 130
   },
   "source": "recall = recall_score(Y_test, Y_pred, average='micro')\nprint(f\"Recall: {recall}\")",
   "execution_count": 15,
   "outputs": [
    {
     "name": "stdout",
     "text": "Recall: 0.6866977829638273\n",
     "output_type": "stream"
    }
   ]
  },
  {
   "cell_type": "code",
   "metadata": {
    "cell_id": "00013-82ee45d0-7661-4883-b15d-9d7f43e56bfb",
    "deepnote_to_be_reexecuted": false,
    "source_hash": "75acb71",
    "execution_start": 1648836757394,
    "execution_millis": 2943,
    "deepnote_cell_type": "code",
    "deepnote_cell_height": 189
   },
   "source": "from sklearn.metrics import ConfusionMatrixDisplay\n\nConfusionMatrixDisplay.from_predictions(\n    Y_test,\n    Y_pred,\n    normalize = 'all'\n)",
   "execution_count": 16,
   "outputs": [
    {
     "output_type": "execute_result",
     "execution_count": 16,
     "data": {
      "text/plain": "<sklearn.metrics._plot.confusion_matrix.ConfusionMatrixDisplay at 0x7fdd5f9ddb20>"
     },
     "metadata": {}
    },
    {
     "data": {
      "text/plain": "<Figure size 432x288 with 2 Axes>",
      "image/png": "[encoded data removed]"
     },
     "metadata": {
      "needs_background": "light",
      "image/png": {
       "width": 309,
       "height": 262
      }
     },
     "output_type": "display_data"
    }
   ]
  },
  {
   "cell_type": "code",
   "metadata": {
    "cell_id": "00014-860e5a5d-711d-4cfa-908f-b2885ec9427e",
    "deepnote_to_be_reexecuted": true,
    "source_hash": "b623e53d",
    "deepnote_cell_type": "code",
    "deepnote_cell_height": 81
   },
   "source": "",
   "execution_count": null,
   "outputs": []
  },
  {
   "cell_type": "markdown",
   "source": "<a style='text-decoration:none;line-height:16px;display:flex;color:#5B5B62;padding:10px;justify-content:end;' href='https://deepnote.com?utm_source=created-in-deepnote-cell&projectId=0a860f2d-c036-4b61-8b0f-a2fa5b54fb03' target=\"_blank\">\n<img alt='Created in deepnote.com' style='display:inline;max-height:16px;margin:0px;margin-right:7.5px;' src='data:image/svg+xml;base64,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' > </img>\nCreated in <span style='font-weight:600;margin-left:4px;'>Deepnote</span></a>",
   "metadata": {
    "tags": [],
    "created_in_deepnote_cell": true,
    "deepnote_cell_type": "markdown"
   }
  }
 ],
 "nbformat": 4,
 "nbformat_minor": 5,
 "metadata": {
  "kernelspec": {
   "display_name": "Python 3 (ipykernel)",
   "language": "python",
   "name": "python3"
  },
  "language_info": {
   "codemirror_mode": {
    "name": "ipython",
    "version": 3
   },
   "file_extension": ".py",
   "mimetype": "text/x-python",
   "name": "python",
   "nbconvert_exporter": "python",
   "pygments_lexer": "ipython3",
   "version": "3.9.1"
  },
  "deepnote_notebook_id": "71be7666-bbdf-4e84-b848-2fee46c079b9",
  "deepnote": {},
  "deepnote_execution_queue": []
 }
}