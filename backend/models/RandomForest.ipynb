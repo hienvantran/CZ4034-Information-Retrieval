{
 "cells": [
  {
   "cell_type": "code",
   "metadata": {
    "cell_id": "1af320f1-f820-4944-afc3-37142a581aa7",
    "deepnote_to_be_reexecuted": false,
    "source_hash": "ca44d898",
    "execution_start": 1648837157867,
    "execution_millis": 2361,
    "deepnote_cell_type": "code",
    "deepnote_cell_height": 261
   },
   "source": "import pandas as pd\nimport numpy as np\n\nimport nltk\n\nfrom sklearn.metrics import accuracy_score, precision_score, recall_score\nfrom sklearn.model_selection import train_test_split, cross_val_score, GridSearchCV\nfrom sklearn.ensemble import RandomForestClassifier\nfrom sklearn.feature_extraction.text import TfidfVectorizer\n\nimport os",
   "execution_count": 1,
   "outputs": []
  },
  {
   "cell_type": "code",
   "metadata": {
    "cell_id": "00001-bf720a35-4dfc-4924-b460-e8cc4232607c",
    "deepnote_to_be_reexecuted": false,
    "source_hash": "68ad7e07",
    "execution_start": 1648837160239,
    "execution_millis": 51,
    "deepnote_cell_type": "code",
    "deepnote_cell_height": 81
   },
   "source": "df = pd.read_csv('data.csv')",
   "execution_count": 2,
   "outputs": []
  },
  {
   "cell_type": "code",
   "metadata": {
    "cell_id": "00002-e457f648-9ae5-41b7-8f8c-dcc3d1e64888",
    "deepnote_to_be_reexecuted": false,
    "source_hash": "49cdad39",
    "execution_start": 1648837160302,
    "execution_millis": 8,
    "deepnote_cell_type": "code",
    "deepnote_cell_height": 135
   },
   "source": "X_data = df[['text_clean']].to_numpy().reshape(-1)\nY_data = df[['label']].to_numpy().reshape(-1)\n\nX_train, X_test, Y_train, Y_test = train_test_split(X_data, Y_data, test_size = 0.2, random_state = 42)",
   "execution_count": 3,
   "outputs": []
  },
  {
   "cell_type": "code",
   "metadata": {
    "cell_id": "00003-399a2601-d247-44bd-aec0-b17bb551fddf",
    "deepnote_to_be_reexecuted": false,
    "source_hash": "984a2f20",
    "execution_start": 1648837160318,
    "execution_millis": 15,
    "deepnote_cell_type": "code",
    "deepnote_cell_height": 171
   },
   "source": "def vectorize(data, tfidf_vect_fit):\n    X_tfidf = tfidf_vect_fit.transform(data)\n    words = tfidf_vect_fit.get_feature_names_out()\n    X_tfidf_df = pd.DataFrame(X_tfidf.toarray())\n    X_tfidf_df.columns = words\n    return(X_tfidf_df)",
   "execution_count": 4,
   "outputs": []
  },
  {
   "cell_type": "code",
   "metadata": {
    "cell_id": "00004-08735be5-a17c-4ae5-a574-9fa0830a6021",
    "deepnote_to_be_reexecuted": false,
    "source_hash": "6100f22e",
    "execution_start": 1648837160338,
    "execution_millis": 4089,
    "deepnote_cell_type": "code",
    "deepnote_cell_height": 117
   },
   "source": "tfidf_vect = TfidfVectorizer(analyzer = lambda x: nltk.word_tokenize(x))\ntfidf_vect_fit = tfidf_vect.fit(X_train)\nX_train = vectorize(X_train, tfidf_vect_fit)",
   "execution_count": 5,
   "outputs": []
  },
  {
   "cell_type": "code",
   "metadata": {
    "cell_id": "00005-b3016d23-0569-47d1-8d20-67d98d91c46b",
    "deepnote_to_be_reexecuted": false,
    "source_hash": "81a8a37c",
    "execution_start": 1648837226177,
    "execution_millis": 209594,
    "deepnote_cell_type": "code",
    "deepnote_cell_height": 270
   },
   "source": "forest = RandomForestClassifier(\n    n_estimators = 200,\n    min_samples_leaf = 2,\n    oob_score = True,\n    n_jobs = -1,\n    max_depth = None\n)\nforest.fit(X_train, Y_train)",
   "execution_count": 7,
   "outputs": [
    {
     "output_type": "execute_result",
     "execution_count": 7,
     "data": {
      "text/plain": "RandomForestClassifier(min_samples_leaf=2, n_estimators=200, n_jobs=-1,\n                       oob_score=True)"
     },
     "metadata": {}
    }
   ]
  },
  {
   "cell_type": "code",
   "metadata": {
    "cell_id": "00006-cbe54ca1-0463-4919-b844-dbe599067774",
    "deepnote_to_be_reexecuted": false,
    "source_hash": "12adf0bd",
    "execution_start": 1648837435770,
    "execution_millis": 1570,
    "deepnote_cell_type": "code",
    "deepnote_cell_height": 154.1875,
    "deepnote_output_heights": [
     21.1875
    ]
   },
   "source": "X_test = vectorize(X_test, tfidf_vect_fit)\n\nforest.score(X_test, Y_test)",
   "execution_count": 8,
   "outputs": [
    {
     "output_type": "execute_result",
     "execution_count": 8,
     "data": {
      "text/plain": "0.661026837806301"
     },
     "metadata": {}
    }
   ]
  },
  {
   "cell_type": "code",
   "metadata": {
    "cell_id": "00007-b8d14eba-e1ce-44a1-8d9b-1814c69d4991",
    "deepnote_to_be_reexecuted": false,
    "source_hash": "babfb8e9",
    "execution_start": 1648837437131,
    "execution_millis": 891,
    "deepnote_cell_type": "code",
    "deepnote_cell_height": 148
   },
   "source": "Y_pred = forest.predict(X_test)\naccuracy = accuracy_score(Y_test, Y_pred)\nprint(f\"Accuracy: {accuracy}\")",
   "execution_count": 9,
   "outputs": [
    {
     "name": "stdout",
     "text": "Accuracy: 0.661026837806301\n",
     "output_type": "stream"
    }
   ]
  },
  {
   "cell_type": "code",
   "metadata": {
    "cell_id": "00008-4d8d032d-615f-4199-b295-5dbda1a95358",
    "deepnote_to_be_reexecuted": false,
    "source_hash": "fa2a2f0d",
    "execution_start": 1648837438029,
    "execution_millis": 8,
    "deepnote_cell_type": "code",
    "deepnote_cell_height": 130
   },
   "source": "precision = precision_score(Y_test, Y_pred, average='micro')\nprint(f\"Precision: {precision}\")",
   "execution_count": 10,
   "outputs": [
    {
     "name": "stdout",
     "text": "Precision: 0.661026837806301\n",
     "output_type": "stream"
    }
   ]
  },
  {
   "cell_type": "code",
   "metadata": {
    "cell_id": "00009-4565d0d0-67bd-4d90-a314-6d597f3e2b2b",
    "deepnote_to_be_reexecuted": false,
    "source_hash": "8ab0a2dc",
    "execution_start": 1648837438040,
    "execution_millis": 16,
    "deepnote_cell_type": "code",
    "deepnote_cell_height": 130
   },
   "source": "recall = recall_score(Y_test, Y_pred, average='micro')\nprint(f\"Recall: {recall}\")",
   "execution_count": 11,
   "outputs": [
    {
     "name": "stdout",
     "text": "Recall: 0.661026837806301\n",
     "output_type": "stream"
    }
   ]
  },
  {
   "cell_type": "code",
   "metadata": {
    "cell_id": "00010-00b672e8-c8e1-4bb1-ae9c-4321ab6ee4f7",
    "deepnote_to_be_reexecuted": false,
    "source_hash": "75acb71",
    "execution_start": 1648837438053,
    "execution_millis": 2039,
    "deepnote_cell_type": "code",
    "deepnote_cell_height": 521.1875,
    "deepnote_output_heights": [
     21.1875,
     264
    ]
   },
   "source": "from sklearn.metrics import ConfusionMatrixDisplay\n\nConfusionMatrixDisplay.from_predictions(\n    Y_test,\n    Y_pred,\n    normalize = 'all'\n)",
   "execution_count": 12,
   "outputs": [
    {
     "output_type": "execute_result",
     "execution_count": 12,
     "data": {
      "text/plain": "<sklearn.metrics._plot.confusion_matrix.ConfusionMatrixDisplay at 0x7f0723203730>"
     },
     "metadata": {}
    },
    {
     "data": {
      "text/plain": "<Figure size 432x288 with 2 Axes>",
      "image/png": "[encoded data removed]"
     },
     "metadata": {
      "needs_background": "light",
      "image/png": {
       "width": 309,
       "height": 262
      }
     },
     "output_type": "display_data"
    }
   ]
  },
  {
   "cell_type": "code",
   "metadata": {
    "cell_id": "00011-3a2abc92-222e-4323-acc6-d692df21952b",
    "deepnote_to_be_reexecuted": true,
    "source_hash": "b623e53d",
    "deepnote_cell_type": "code",
    "deepnote_cell_height": 81
   },
   "source": "",
   "execution_count": null,
   "outputs": []
  },
  {
   "cell_type": "markdown",
   "source": "<a style='text-decoration:none;line-height:16px;display:flex;color:#5B5B62;padding:10px;justify-content:end;' href='https://deepnote.com?utm_source=created-in-deepnote-cell&projectId=0a860f2d-c036-4b61-8b0f-a2fa5b54fb03' target=\"_blank\">\n<img alt='Created in deepnote.com' style='display:inline;max-height:16px;margin:0px;margin-right:7.5px;' src='data:image/svg+xml;base64,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' > </img>\nCreated in <span style='font-weight:600;margin-left:4px;'>Deepnote</span></a>",
   "metadata": {
    "tags": [],
    "created_in_deepnote_cell": true,
    "deepnote_cell_type": "markdown"
   }
  }
 ],
 "nbformat": 4,
 "nbformat_minor": 5,
 "metadata": {
  "kernelspec": {
   "display_name": "Python 3 (ipykernel)",
   "language": "python",
   "name": "python3"
  },
  "language_info": {
   "codemirror_mode": {
    "name": "ipython",
    "version": 3
   },
   "file_extension": ".py",
   "mimetype": "text/x-python",
   "name": "python",
   "nbconvert_exporter": "python",
   "pygments_lexer": "ipython3",
   "version": "3.9.1"
  },
  "deepnote_notebook_id": "6c2039a0-0c80-4951-97a0-2e3cd1deab7f",
  "deepnote": {},
  "deepnote_execution_queue": []
 }
}