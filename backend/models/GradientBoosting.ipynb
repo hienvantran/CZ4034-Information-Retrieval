{
 "cells": [
  {
   "cell_type": "code",
   "metadata": {
    "deepnote_to_be_reexecuted": false,
    "source_hash": "93bbaade",
    "execution_start": 1648822979909,
    "execution_millis": 2741,
    "cell_id": "0e2c4776-5c70-4a79-9228-a60e3565a764",
    "deepnote_cell_type": "code",
    "deepnote_cell_height": 261
   },
   "source": "import pandas as pd\nimport numpy as np\n\nimport nltk\n\nfrom sklearn.metrics import accuracy_score, precision_score, recall_score\nfrom sklearn.model_selection import train_test_split, cross_val_score, GridSearchCV\nfrom sklearn.feature_extraction.text import TfidfVectorizer\nfrom sklearn.ensemble import GradientBoostingClassifier\n\nimport os",
   "outputs": [],
   "execution_count": null
  },
  {
   "cell_type": "code",
   "metadata": {
    "deepnote_to_be_reexecuted": false,
    "source_hash": "68ad7e07",
    "execution_start": 1648822982661,
    "execution_millis": 99,
    "cell_id": "00001-8c2d0f01-9d86-45a5-9d39-7fe1307bf457",
    "deepnote_cell_type": "code",
    "deepnote_cell_height": 81
   },
   "source": "df = pd.read_csv('data.csv')",
   "outputs": [],
   "execution_count": null
  },
  {
   "cell_type": "code",
   "metadata": {
    "deepnote_to_be_reexecuted": false,
    "source_hash": "49cdad39",
    "execution_start": 1648822982770,
    "execution_millis": 25,
    "cell_id": "00002-c1ab9112-84a2-48b3-b3f5-8c000ef9abb0",
    "deepnote_cell_type": "code",
    "deepnote_cell_height": 135
   },
   "source": "X_data = df[['text_clean']].to_numpy().reshape(-1)\nY_data = df[['label']].to_numpy().reshape(-1)\n\nX_train, X_test, Y_train, Y_test = train_test_split(X_data, Y_data, test_size = 0.2, random_state = 42)",
   "outputs": [],
   "execution_count": null
  },
  {
   "cell_type": "code",
   "metadata": {
    "deepnote_to_be_reexecuted": false,
    "source_hash": "984a2f20",
    "execution_start": 1648822982809,
    "execution_millis": 17,
    "cell_id": "00003-fbc42c3e-105e-426b-bc24-53fb53868c83",
    "deepnote_cell_type": "code",
    "deepnote_cell_height": 171
   },
   "source": "def vectorize(data, tfidf_vect_fit):\n    X_tfidf = tfidf_vect_fit.transform(data)\n    words = tfidf_vect_fit.get_feature_names_out()\n    X_tfidf_df = pd.DataFrame(X_tfidf.toarray())\n    X_tfidf_df.columns = words\n    return(X_tfidf_df)",
   "outputs": [],
   "execution_count": null
  },
  {
   "cell_type": "code",
   "source": "nltk.download('punkt')",
   "metadata": {
    "cell_id": "bd58ddc1a0ea4fa7a8efd9ab6e76f065",
    "tags": [],
    "deepnote_to_be_reexecuted": false,
    "source_hash": "997399cc",
    "execution_start": 1648822982842,
    "execution_millis": 804,
    "deepnote_cell_type": "code",
    "deepnote_cell_height": 184.1875,
    "deepnote_output_heights": [
     null,
     21.1875
    ]
   },
   "outputs": [
    {
     "name": "stderr",
     "text": "[nltk_data] Downloading package punkt to /root/nltk_data...\n[nltk_data]   Unzipping tokenizers/punkt.zip.\n",
     "output_type": "stream"
    },
    {
     "output_type": "execute_result",
     "execution_count": 5,
     "data": {
      "text/plain": "True"
     },
     "metadata": {}
    }
   ],
   "execution_count": null
  },
  {
   "cell_type": "code",
   "metadata": {
    "deepnote_to_be_reexecuted": false,
    "source_hash": "378014c",
    "execution_start": 1648822983650,
    "execution_millis": 8515,
    "cell_id": "00004-456466fe-ce6f-4c23-ab37-7a94e4db56e7",
    "deepnote_cell_type": "code",
    "deepnote_cell_height": 135
   },
   "source": "tfidf_vect = TfidfVectorizer(analyzer = lambda x: nltk.word_tokenize(x))\ntfidf_vect_fit = tfidf_vect.fit(X_train)\nX_train = vectorize(X_train, tfidf_vect_fit)\nX_test = vectorize(X_test, tfidf_vect_fit)",
   "outputs": [],
   "execution_count": null
  },
  {
   "cell_type": "code",
   "metadata": {
    "deepnote_to_be_reexecuted": false,
    "source_hash": "be722939",
    "execution_start": 1648822992167,
    "execution_millis": 17,
    "cell_id": "00005-0efa1c15-7e0f-4d90-ba49-74f45c1bd1c8",
    "deepnote_cell_type": "code",
    "deepnote_cell_height": 81
   },
   "source": "gradient_clf = GradientBoostingClassifier(n_estimators = 200, random_state = 42)",
   "outputs": [],
   "execution_count": null
  },
  {
   "cell_type": "code",
   "metadata": {
    "deepnote_to_be_reexecuted": false,
    "source_hash": "16606058",
    "execution_start": 1648822992189,
    "execution_millis": 2823621,
    "cell_id": "00006-59b3bfc5-f47d-42e4-9a86-bcd1cc3a61c6",
    "deepnote_cell_type": "code",
    "deepnote_cell_height": 136.1875,
    "deepnote_output_heights": [
     21.1875
    ]
   },
   "source": "# train the ensemble classifier\ngradient_clf.fit(X_train, Y_train)",
   "outputs": [
    {
     "output_type": "execute_result",
     "execution_count": 8,
     "data": {
      "text/plain": "GradientBoostingClassifier(n_estimators=200, random_state=42)"
     },
     "metadata": {}
    }
   ],
   "execution_count": null
  },
  {
   "cell_type": "code",
   "source": "Y_pred = gradient_clf.predict(X_test)\naccuracy = accuracy_score(Y_test, Y_pred)\nprint(f\"Accuracy: {accuracy}\")",
   "metadata": {
    "cell_id": "9d2b27bb2cb04af3ae412c2488e84891",
    "tags": [],
    "deepnote_to_be_reexecuted": false,
    "source_hash": "1a91cff5",
    "execution_start": 1648825815807,
    "execution_millis": 422,
    "deepnote_cell_type": "code",
    "deepnote_cell_height": 148
   },
   "outputs": [
    {
     "name": "stdout",
     "text": "Accuracy: 0.6592765460910152\n",
     "output_type": "stream"
    }
   ],
   "execution_count": null
  },
  {
   "cell_type": "code",
   "metadata": {
    "deepnote_to_be_reexecuted": false,
    "source_hash": "a20810b3",
    "cell_id": "00009-8daca9ac-a944-4a7f-8a2f-6c420cafe0c3",
    "execution_start": 1648825816246,
    "execution_millis": 4151084,
    "deepnote_cell_type": "code",
    "deepnote_cell_height": 130
   },
   "source": "precision = precision_score(Y_test, Y_pred, average = 'micro')\nprint(f\"Precision: {precision}\")",
   "outputs": [
    {
     "name": "stdout",
     "text": "Precision: 0.6592765460910152\n",
     "output_type": "stream"
    }
   ],
   "execution_count": null
  },
  {
   "cell_type": "code",
   "metadata": {
    "deepnote_to_be_reexecuted": false,
    "source_hash": "e38bb3a7",
    "cell_id": "00010-7f000be2-8740-4d1b-8f13-3c3ba8d878f8",
    "execution_start": 1648825816255,
    "deepnote_cell_type": "code",
    "deepnote_cell_height": 130
   },
   "source": "recall = recall_score(Y_test, Y_pred, average = 'micro')\nprint(f\"Recall: {recall}\")",
   "outputs": [
    {
     "name": "stdout",
     "text": "Recall: 0.6592765460910152\n",
     "output_type": "stream"
    }
   ],
   "execution_count": null
  },
  {
   "cell_type": "code",
   "metadata": {
    "deepnote_to_be_reexecuted": false,
    "source_hash": "75acb71",
    "cell_id": "00011-08471e09-15f9-4011-b9d5-e5a31f647426",
    "execution_start": 1648825816259,
    "execution_millis": 2886,
    "deepnote_cell_type": "code",
    "deepnote_cell_height": 521.1875,
    "deepnote_output_heights": [
     21.1875,
     264
    ]
   },
   "source": "from sklearn.metrics import ConfusionMatrixDisplay\n\nConfusionMatrixDisplay.from_predictions(\n    Y_test,\n    Y_pred,\n    normalize = 'all'\n)",
   "outputs": [
    {
     "output_type": "execute_result",
     "execution_count": 12,
     "data": {
      "text/plain": "<sklearn.metrics._plot.confusion_matrix.ConfusionMatrixDisplay at 0x7f4f51c4e4c0>"
     },
     "metadata": {}
    },
    {
     "data": {
      "text/plain": "<Figure size 432x288 with 2 Axes>",
      "image/png": "[encoded data removed]"
     },
     "metadata": {
      "needs_background": "light",
      "image/png": {
       "width": 309,
       "height": 262
      }
     },
     "output_type": "display_data"
    }
   ],
   "execution_count": null
  },
  {
   "cell_type": "code",
   "metadata": {
    "deepnote_to_be_reexecuted": false,
    "source_hash": "b623e53d",
    "cell_id": "00012-05a1f7d5-c02d-4115-bd3a-371b7e8d2da3",
    "execution_start": 1648825819152,
    "execution_millis": 2,
    "deepnote_cell_type": "code",
    "deepnote_cell_height": 81
   },
   "source": "",
   "outputs": [],
   "execution_count": null
  },
  {
   "cell_type": "markdown",
   "source": "<a style='text-decoration:none;line-height:16px;display:flex;color:#5B5B62;padding:10px;justify-content:end;' href='https://deepnote.com?utm_source=created-in-deepnote-cell&projectId=0a860f2d-c036-4b61-8b0f-a2fa5b54fb03' target=\"_blank\">\n<img alt='Created in deepnote.com' style='display:inline;max-height:16px;margin:0px;margin-right:7.5px;' src='data:image/svg+xml;base64,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' > </img>\nCreated in <span style='font-weight:600;margin-left:4px;'>Deepnote</span></a>",
   "metadata": {
    "tags": [],
    "created_in_deepnote_cell": true,
    "deepnote_cell_type": "markdown"
   }
  }
 ],
 "nbformat": 4,
 "nbformat_minor": 5,
 "metadata": {
  "kernelspec": {
   "display_name": "Python 3 (ipykernel)",
   "language": "python",
   "name": "python3"
  },
  "language_info": {
   "codemirror_mode": {
    "name": "ipython",
    "version": 3
   },
   "file_extension": ".py",
   "mimetype": "text/x-python",
   "name": "python",
   "nbconvert_exporter": "python",
   "pygments_lexer": "ipython3",
   "version": "3.9.1"
  },
  "deepnote_notebook_id": "834d207f-7baf-49f1-88bf-3e5fe3b4fefc",
  "deepnote": {},
  "deepnote_execution_queue": []
 }
}